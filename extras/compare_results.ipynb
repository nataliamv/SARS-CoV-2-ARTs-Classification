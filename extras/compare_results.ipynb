{
 "cells": [
  {
   "cell_type": "code",
   "execution_count": 1,
   "metadata": {},
   "outputs": [],
   "source": [
    "import numpy as np\n",
    "import pandas as pd\n",
    "import seaborn as sns\n",
    "import matplotlib.pyplot as plt\n",
    "import matplotlib.ticker as ticker\n",
    "import os,glob \n",
    "import re\n",
    "plt.style.use('seaborn-whitegrid')"
   ]
  },
  {
   "cell_type": "markdown",
   "metadata": {},
   "source": [
    "## Visual Inspection <a class=\"anchor\" id=\"1\"></a>"
   ]
  },
  {
   "cell_type": "markdown",
   "metadata": {},
   "source": [
    "### Load / Clean data"
   ]
  },
  {
   "cell_type": "markdown",
   "metadata": {},
   "source": [
    " read excel file with results from visual inspection (vi)   \n",
    " these are ART's scored as either parallel (homoplasies) , sequential (stepwise) or both   \n",
    " all ART's not on this list are conserved states or other (a - d Figure 1)"
   ]
  },
  {
   "cell_type": "code",
   "execution_count": 2,
   "metadata": {},
   "outputs": [
    {
     "data": {
      "text/html": [
       "<div>\n",
       "<style scoped>\n",
       "    .dataframe tbody tr th:only-of-type {\n",
       "        vertical-align: middle;\n",
       "    }\n",
       "\n",
       "    .dataframe tbody tr th {\n",
       "        vertical-align: top;\n",
       "    }\n",
       "\n",
       "    .dataframe thead th {\n",
       "        text-align: right;\n",
       "    }\n",
       "</style>\n",
       "<table border=\"1\" class=\"dataframe\">\n",
       "  <thead>\n",
       "    <tr style=\"text-align: right;\">\n",
       "      <th></th>\n",
       "      <th>Position</th>\n",
       "      <th>ORF</th>\n",
       "      <th>Parallel</th>\n",
       "      <th>Sequential</th>\n",
       "    </tr>\n",
       "  </thead>\n",
       "  <tbody>\n",
       "    <tr>\n",
       "      <th>0</th>\n",
       "      <td>88</td>\n",
       "      <td>Orf1a</td>\n",
       "      <td>0</td>\n",
       "      <td>1</td>\n",
       "    </tr>\n",
       "    <tr>\n",
       "      <th>1</th>\n",
       "      <td>158</td>\n",
       "      <td>Orf1a</td>\n",
       "      <td>1</td>\n",
       "      <td>0</td>\n",
       "    </tr>\n",
       "    <tr>\n",
       "      <th>2</th>\n",
       "      <td>339</td>\n",
       "      <td>Orf1a</td>\n",
       "      <td>1</td>\n",
       "      <td>1</td>\n",
       "    </tr>\n",
       "    <tr>\n",
       "      <th>3</th>\n",
       "      <td>357</td>\n",
       "      <td>Orf1a</td>\n",
       "      <td>1</td>\n",
       "      <td>0</td>\n",
       "    </tr>\n",
       "    <tr>\n",
       "      <th>4</th>\n",
       "      <td>364</td>\n",
       "      <td>Orf1a</td>\n",
       "      <td>1</td>\n",
       "      <td>1</td>\n",
       "    </tr>\n",
       "  </tbody>\n",
       "</table>\n",
       "</div>"
      ],
      "text/plain": [
       "   Position    ORF  Parallel  Sequential\n",
       "0        88  Orf1a         0           1\n",
       "1       158  Orf1a         1           0\n",
       "2       339  Orf1a         1           1\n",
       "3       357  Orf1a         1           0\n",
       "4       364  Orf1a         1           1"
      ]
     },
     "execution_count": 2,
     "metadata": {},
     "output_type": "execute_result"
    }
   ],
   "source": [
    "results_vi = pd.concat(pd.read_excel('validation_data.xlsx', sheet_name=None), ignore_index=True, sort=False)\n",
    "results_vi.dropna(axis='columns', inplace=True)\n",
    "results_vi.head()"
   ]
  },
  {
   "cell_type": "markdown",
   "metadata": {},
   "source": [
    "some of the sites are duplicated as they belong to both Orf1a and Orf1b.   \n",
    "we removed duplicates as not to skew results"
   ]
  },
  {
   "cell_type": "code",
   "execution_count": 3,
   "metadata": {},
   "outputs": [
    {
     "data": {
      "text/html": [
       "<div>\n",
       "<style scoped>\n",
       "    .dataframe tbody tr th:only-of-type {\n",
       "        vertical-align: middle;\n",
       "    }\n",
       "\n",
       "    .dataframe tbody tr th {\n",
       "        vertical-align: top;\n",
       "    }\n",
       "\n",
       "    .dataframe thead th {\n",
       "        text-align: right;\n",
       "    }\n",
       "</style>\n",
       "<table border=\"1\" class=\"dataframe\">\n",
       "  <thead>\n",
       "    <tr style=\"text-align: right;\">\n",
       "      <th></th>\n",
       "      <th>Position</th>\n",
       "      <th>ORF</th>\n",
       "      <th>Parallel</th>\n",
       "      <th>Sequential</th>\n",
       "    </tr>\n",
       "  </thead>\n",
       "  <tbody>\n",
       "    <tr>\n",
       "      <th>0</th>\n",
       "      <td>88</td>\n",
       "      <td>Orf1a</td>\n",
       "      <td>0</td>\n",
       "      <td>1</td>\n",
       "    </tr>\n",
       "  </tbody>\n",
       "</table>\n",
       "</div>"
      ],
      "text/plain": [
       "   Position    ORF  Parallel  Sequential\n",
       "0        88  Orf1a         0           1"
      ]
     },
     "execution_count": 3,
     "metadata": {},
     "output_type": "execute_result"
    }
   ],
   "source": [
    "results_vi[results_vi['Position']==88]"
   ]
  },
  {
   "cell_type": "code",
   "execution_count": 4,
   "metadata": {},
   "outputs": [
    {
     "data": {
      "text/html": [
       "<div>\n",
       "<style scoped>\n",
       "    .dataframe tbody tr th:only-of-type {\n",
       "        vertical-align: middle;\n",
       "    }\n",
       "\n",
       "    .dataframe tbody tr th {\n",
       "        vertical-align: top;\n",
       "    }\n",
       "\n",
       "    .dataframe thead th {\n",
       "        text-align: right;\n",
       "    }\n",
       "</style>\n",
       "<table border=\"1\" class=\"dataframe\">\n",
       "  <thead>\n",
       "    <tr style=\"text-align: right;\">\n",
       "      <th></th>\n",
       "      <th>Position</th>\n",
       "      <th>ORF</th>\n",
       "      <th>Parallel</th>\n",
       "      <th>Sequential</th>\n",
       "    </tr>\n",
       "  </thead>\n",
       "  <tbody>\n",
       "  </tbody>\n",
       "</table>\n",
       "</div>"
      ],
      "text/plain": [
       "Empty DataFrame\n",
       "Columns: [Position, ORF, Parallel, Sequential]\n",
       "Index: []"
      ]
     },
     "execution_count": 4,
     "metadata": {},
     "output_type": "execute_result"
    }
   ],
   "source": [
    "art_ids = results_vi['Position']\n",
    "results_vi[art_ids.isin(art_ids[art_ids.duplicated()])]\n",
    "#remove duplicates\n",
    "results_vi.drop_duplicates(subset=['Position'],inplace=True)\n",
    "#check no duplicates again\n",
    "art_ids = results_vi['Position']\n",
    "results_vi[art_ids.isin(art_ids[art_ids.duplicated()])]"
   ]
  },
  {
   "cell_type": "markdown",
   "metadata": {},
   "source": [
    "the algorithm classifies evolutionary patterns found in each ART into   \n",
    "conserved, inter-homoplasy, intra-homoplasy, stepwise or other.\n",
    "\n",
    "Coding for the classification:\n",
    "\n",
    "0 : (b) apomorphy, (c) synapomorphy, (d) autapomorphy, other  \n",
    "1 : (a) conserved  \n",
    "2 : (e) homoplasy (inter and/or intra) / parallel evolution   \n",
    "3 : (f) stepwise / sequential evolution  \n",
    "4 : (e) & (f)  "
   ]
  },
  {
   "cell_type": "code",
   "execution_count": 5,
   "metadata": {},
   "outputs": [],
   "source": [
    "# mapping of evolutionary patterns\n",
    "\n",
    "def conditions_vi(df):\n",
    "    if (df['Parallel']==1) & (df['Sequential']==0):\n",
    "        return 2\n",
    "    elif (df['Parallel']==0) & (df['Sequential']==1):\n",
    "        return 3\n",
    "    else:\n",
    "        return 4"
   ]
  },
  {
   "cell_type": "code",
   "execution_count": 6,
   "metadata": {},
   "outputs": [
    {
     "data": {
      "text/html": [
       "<div>\n",
       "<style scoped>\n",
       "    .dataframe tbody tr th:only-of-type {\n",
       "        vertical-align: middle;\n",
       "    }\n",
       "\n",
       "    .dataframe tbody tr th {\n",
       "        vertical-align: top;\n",
       "    }\n",
       "\n",
       "    .dataframe thead th {\n",
       "        text-align: right;\n",
       "    }\n",
       "</style>\n",
       "<table border=\"1\" class=\"dataframe\">\n",
       "  <thead>\n",
       "    <tr style=\"text-align: right;\">\n",
       "      <th></th>\n",
       "      <th>Position</th>\n",
       "      <th>ORF</th>\n",
       "      <th>Parallel</th>\n",
       "      <th>Sequential</th>\n",
       "      <th>y_vi</th>\n",
       "    </tr>\n",
       "  </thead>\n",
       "  <tbody>\n",
       "    <tr>\n",
       "      <th>0</th>\n",
       "      <td>88</td>\n",
       "      <td>Orf1a</td>\n",
       "      <td>0</td>\n",
       "      <td>1</td>\n",
       "      <td>3</td>\n",
       "    </tr>\n",
       "    <tr>\n",
       "      <th>1</th>\n",
       "      <td>158</td>\n",
       "      <td>Orf1a</td>\n",
       "      <td>1</td>\n",
       "      <td>0</td>\n",
       "      <td>2</td>\n",
       "    </tr>\n",
       "    <tr>\n",
       "      <th>2</th>\n",
       "      <td>339</td>\n",
       "      <td>Orf1a</td>\n",
       "      <td>1</td>\n",
       "      <td>1</td>\n",
       "      <td>4</td>\n",
       "    </tr>\n",
       "    <tr>\n",
       "      <th>3</th>\n",
       "      <td>357</td>\n",
       "      <td>Orf1a</td>\n",
       "      <td>1</td>\n",
       "      <td>0</td>\n",
       "      <td>2</td>\n",
       "    </tr>\n",
       "    <tr>\n",
       "      <th>4</th>\n",
       "      <td>364</td>\n",
       "      <td>Orf1a</td>\n",
       "      <td>1</td>\n",
       "      <td>1</td>\n",
       "      <td>4</td>\n",
       "    </tr>\n",
       "  </tbody>\n",
       "</table>\n",
       "</div>"
      ],
      "text/plain": [
       "   Position    ORF  Parallel  Sequential  y_vi\n",
       "0        88  Orf1a         0           1     3\n",
       "1       158  Orf1a         1           0     2\n",
       "2       339  Orf1a         1           1     4\n",
       "3       357  Orf1a         1           0     2\n",
       "4       364  Orf1a         1           1     4"
      ]
     },
     "execution_count": 6,
     "metadata": {},
     "output_type": "execute_result"
    }
   ],
   "source": [
    "# apply mapping to results and into new column\n",
    "results_vi['y_vi'] = results_vi.apply(conditions_vi, axis=1)\n",
    "results_vi.head()"
   ]
  },
  {
   "cell_type": "code",
   "execution_count": 7,
   "metadata": {},
   "outputs": [
    {
     "data": {
      "text/html": [
       "<div>\n",
       "<style scoped>\n",
       "    .dataframe tbody tr th:only-of-type {\n",
       "        vertical-align: middle;\n",
       "    }\n",
       "\n",
       "    .dataframe tbody tr th {\n",
       "        vertical-align: top;\n",
       "    }\n",
       "\n",
       "    .dataframe thead th {\n",
       "        text-align: right;\n",
       "    }\n",
       "</style>\n",
       "<table border=\"1\" class=\"dataframe\">\n",
       "  <thead>\n",
       "    <tr style=\"text-align: right;\">\n",
       "      <th></th>\n",
       "      <th>Position</th>\n",
       "      <th>ORF</th>\n",
       "      <th>Parallel</th>\n",
       "      <th>Sequential</th>\n",
       "      <th>y_vi</th>\n",
       "    </tr>\n",
       "  </thead>\n",
       "  <tbody>\n",
       "  </tbody>\n",
       "</table>\n",
       "</div>"
      ],
      "text/plain": [
       "Empty DataFrame\n",
       "Columns: [Position, ORF, Parallel, Sequential, y_vi]\n",
       "Index: []"
      ]
     },
     "execution_count": 7,
     "metadata": {},
     "output_type": "execute_result"
    }
   ],
   "source": [
    "# we can check results at specific position\n",
    "results_vi[results_vi['Position']==803]"
   ]
  },
  {
   "cell_type": "markdown",
   "metadata": {},
   "source": [
    "### Distribution"
   ]
  },
  {
   "cell_type": "code",
   "execution_count": 8,
   "metadata": {},
   "outputs": [
    {
     "name": "stdout",
     "output_type": "stream",
     "text": [
      "Count:\n",
      "homoplasy:  150\n",
      "stepwise:  113\n",
      "both:  45\n",
      "total:  218\n"
     ]
    }
   ],
   "source": [
    "#calculate counts\n",
    "homoplasy = sum(results_vi['Parallel'])\n",
    "stepwise = sum(results_vi['Sequential'])\n",
    "both = (sum(results_vi['Parallel']) + sum(results_vi['Sequential'])) - results_vi['Position'].count()\n",
    "total = results_vi['Position'].count()\n",
    "\n",
    "print('Count:')\n",
    "print('homoplasy: ', homoplasy)\n",
    "print('stepwise: ', stepwise)\n",
    "print('both: ', both)\n",
    "print('total: ', total)"
   ]
  },
  {
   "cell_type": "code",
   "execution_count": 9,
   "metadata": {},
   "outputs": [
    {
     "data": {
      "image/png": "[encoded data removed]",
      "text/plain": [
       "<Figure size 576x360 with 1 Axes>"
      ]
     },
     "metadata": {},
     "output_type": "display_data"
    }
   ],
   "source": [
    "f, ax = plt.subplots(figsize=(8, 5))\n",
    "ax = sns.barplot(x=['homoplasy', 'stepwise', 'homoplasy & stepwise'],y=[homoplasy, stepwise, both], alpha=0.7)\n",
    "ax.axhline(total, ls='--', color='black',alpha=0.7)\n",
    "plt.savefig('figures/visual_inspection.png')\n",
    "plt.title('Results: Visual Inspection');"
   ]
  },
  {
   "cell_type": "markdown",
   "metadata": {},
   "source": [
    "## Algorithmic Results   \n",
    "### Load / Clean data"
   ]
  },
  {
   "cell_type": "code",
   "execution_count": 10,
   "metadata": {},
   "outputs": [],
   "source": [
    "# read results\n",
    "path = 'results/' \n",
    "all_files = glob.glob(path + \"/all.csv\")\n",
    "\n",
    "l = []\n",
    "\n",
    "for filename in all_files:\n",
    "    df = pd.read_csv(filename, header=None, index_col=None)\n",
    "    l.append(df)\n",
    "\n",
    "results_alg = pd.concat(l, axis=0, ignore_index=True)"
   ]
  },
  {
   "cell_type": "code",
   "execution_count": 11,
   "metadata": {},
   "outputs": [
    {
     "data": {
      "text/html": [
       "<div>\n",
       "<style scoped>\n",
       "    .dataframe tbody tr th:only-of-type {\n",
       "        vertical-align: middle;\n",
       "    }\n",
       "\n",
       "    .dataframe tbody tr th {\n",
       "        vertical-align: top;\n",
       "    }\n",
       "\n",
       "    .dataframe thead th {\n",
       "        text-align: right;\n",
       "    }\n",
       "</style>\n",
       "<table border=\"1\" class=\"dataframe\">\n",
       "  <thead>\n",
       "    <tr style=\"text-align: right;\">\n",
       "      <th></th>\n",
       "      <th>0</th>\n",
       "      <th>1</th>\n",
       "      <th>2</th>\n",
       "      <th>3</th>\n",
       "      <th>4</th>\n",
       "      <th>5</th>\n",
       "    </tr>\n",
       "  </thead>\n",
       "  <tbody>\n",
       "    <tr>\n",
       "      <th>0</th>\n",
       "      <td>RASML/HumanBeta_Site4062.tree</td>\n",
       "      <td>0.0</td>\n",
       "      <td>1.0</td>\n",
       "      <td>0.0</td>\n",
       "      <td>0.0</td>\n",
       "      <td>0.0</td>\n",
       "    </tr>\n",
       "    <tr>\n",
       "      <th>1</th>\n",
       "      <td>RASML/HumanBeta_Site1572.tree</td>\n",
       "      <td>0.0</td>\n",
       "      <td>0.0</td>\n",
       "      <td>0.0</td>\n",
       "      <td>0.0</td>\n",
       "      <td>0.0</td>\n",
       "    </tr>\n",
       "    <tr>\n",
       "      <th>2</th>\n",
       "      <td>RASML/HumanBeta_Site2586.tree</td>\n",
       "      <td>0.0</td>\n",
       "      <td>0.0</td>\n",
       "      <td>0.0</td>\n",
       "      <td>0.0</td>\n",
       "      <td>0.0</td>\n",
       "    </tr>\n",
       "    <tr>\n",
       "      <th>3</th>\n",
       "      <td>RASML/HumanBeta_Site3233.tree</td>\n",
       "      <td>0.0</td>\n",
       "      <td>0.0</td>\n",
       "      <td>0.0</td>\n",
       "      <td>0.0</td>\n",
       "      <td>0.0</td>\n",
       "    </tr>\n",
       "    <tr>\n",
       "      <th>4</th>\n",
       "      <td>RASML/HumanBeta_Site6284.tree</td>\n",
       "      <td>0.0</td>\n",
       "      <td>0.0</td>\n",
       "      <td>0.0</td>\n",
       "      <td>0.0</td>\n",
       "      <td>0.0</td>\n",
       "    </tr>\n",
       "  </tbody>\n",
       "</table>\n",
       "</div>"
      ],
      "text/plain": [
       "                               0    1    2    3    4    5\n",
       "0  RASML/HumanBeta_Site4062.tree  0.0  1.0  0.0  0.0  0.0\n",
       "1  RASML/HumanBeta_Site1572.tree  0.0  0.0  0.0  0.0  0.0\n",
       "2  RASML/HumanBeta_Site2586.tree  0.0  0.0  0.0  0.0  0.0\n",
       "3  RASML/HumanBeta_Site3233.tree  0.0  0.0  0.0  0.0  0.0\n",
       "4  RASML/HumanBeta_Site6284.tree  0.0  0.0  0.0  0.0  0.0"
      ]
     },
     "execution_count": 11,
     "metadata": {},
     "output_type": "execute_result"
    }
   ],
   "source": [
    "results_alg.head()"
   ]
  },
  {
   "cell_type": "code",
   "execution_count": null,
   "metadata": {},
   "outputs": [],
   "source": []
  },
  {
   "cell_type": "code",
   "execution_count": 12,
   "metadata": {},
   "outputs": [
    {
     "data": {
      "text/plain": [
       "6681"
      ]
     },
     "execution_count": 12,
     "metadata": {},
     "output_type": "execute_result"
    }
   ],
   "source": [
    "len(results_alg)"
   ]
  },
  {
   "cell_type": "code",
   "execution_count": 13,
   "metadata": {},
   "outputs": [],
   "source": [
    "# format data\n",
    "results_alg['Position'] = pd.to_numeric(results_alg[0].str.extract(r\"(\\d+)(\\.)\", )[0])\n",
    "results_alg.sort_values(by = ['Position'],inplace=True)\n",
    "results_alg.drop([0], axis=1,inplace=True)\n",
    "results_alg.columns=['Low Freq Var','Conserved','Inter', 'Intra', 'Stepwise','Position']\n",
    "cols = results_alg.columns.tolist()\n",
    "cols = cols[-1:] + cols[:-1]\n",
    "results_alg = results_alg[cols]\n",
    "homoplasy = (results_alg['Inter']==1) | (results_alg['Inter']==1)\n",
    "results_alg['Homoplasy'] = homoplasy"
   ]
  },
  {
   "cell_type": "code",
   "execution_count": 14,
   "metadata": {},
   "outputs": [],
   "source": [
    "# function for adding new column with coded results\n",
    "def conditions_alg(df):\n",
    "    if df['Conserved']==1:\n",
    "        return 1\n",
    "    elif (df['Inter']==1 or df['Intra']==1):\n",
    "        if df['Stepwise']==0:\n",
    "            return 2\n",
    "        else:\n",
    "            return 4\n",
    "    elif (df['Inter']==0 and df['Intra']==0 and df['Stepwise']==1):\n",
    "        return 3\n",
    "    else:\n",
    "        return 0"
   ]
  },
  {
   "cell_type": "code",
   "execution_count": 15,
   "metadata": {},
   "outputs": [
    {
     "data": {
      "text/html": [
       "<div>\n",
       "<style scoped>\n",
       "    .dataframe tbody tr th:only-of-type {\n",
       "        vertical-align: middle;\n",
       "    }\n",
       "\n",
       "    .dataframe tbody tr th {\n",
       "        vertical-align: top;\n",
       "    }\n",
       "\n",
       "    .dataframe thead th {\n",
       "        text-align: right;\n",
       "    }\n",
       "</style>\n",
       "<table border=\"1\" class=\"dataframe\">\n",
       "  <thead>\n",
       "    <tr style=\"text-align: right;\">\n",
       "      <th></th>\n",
       "      <th>Position</th>\n",
       "      <th>Low Freq Var</th>\n",
       "      <th>Conserved</th>\n",
       "      <th>Inter</th>\n",
       "      <th>Intra</th>\n",
       "      <th>Stepwise</th>\n",
       "      <th>Homoplasy</th>\n",
       "      <th>y_alg</th>\n",
       "    </tr>\n",
       "  </thead>\n",
       "  <tbody>\n",
       "    <tr>\n",
       "      <th>5061</th>\n",
       "      <td>1</td>\n",
       "      <td>0.0</td>\n",
       "      <td>1.0</td>\n",
       "      <td>1.0</td>\n",
       "      <td>0.0</td>\n",
       "      <td>1.0</td>\n",
       "      <td>True</td>\n",
       "      <td>1</td>\n",
       "    </tr>\n",
       "    <tr>\n",
       "      <th>2207</th>\n",
       "      <td>2</td>\n",
       "      <td>0.0</td>\n",
       "      <td>0.0</td>\n",
       "      <td>0.0</td>\n",
       "      <td>0.0</td>\n",
       "      <td>0.0</td>\n",
       "      <td>False</td>\n",
       "      <td>0</td>\n",
       "    </tr>\n",
       "    <tr>\n",
       "      <th>2555</th>\n",
       "      <td>3</td>\n",
       "      <td>0.0</td>\n",
       "      <td>0.0</td>\n",
       "      <td>0.0</td>\n",
       "      <td>0.0</td>\n",
       "      <td>0.0</td>\n",
       "      <td>False</td>\n",
       "      <td>0</td>\n",
       "    </tr>\n",
       "    <tr>\n",
       "      <th>2193</th>\n",
       "      <td>4</td>\n",
       "      <td>0.0</td>\n",
       "      <td>0.0</td>\n",
       "      <td>0.0</td>\n",
       "      <td>0.0</td>\n",
       "      <td>0.0</td>\n",
       "      <td>False</td>\n",
       "      <td>0</td>\n",
       "    </tr>\n",
       "    <tr>\n",
       "      <th>5986</th>\n",
       "      <td>14</td>\n",
       "      <td>0.0</td>\n",
       "      <td>0.0</td>\n",
       "      <td>0.0</td>\n",
       "      <td>0.0</td>\n",
       "      <td>0.0</td>\n",
       "      <td>False</td>\n",
       "      <td>0</td>\n",
       "    </tr>\n",
       "  </tbody>\n",
       "</table>\n",
       "</div>"
      ],
      "text/plain": [
       "      Position  Low Freq Var  Conserved  Inter  Intra  Stepwise  Homoplasy  \\\n",
       "5061         1           0.0        1.0    1.0    0.0       1.0       True   \n",
       "2207         2           0.0        0.0    0.0    0.0       0.0      False   \n",
       "2555         3           0.0        0.0    0.0    0.0       0.0      False   \n",
       "2193         4           0.0        0.0    0.0    0.0       0.0      False   \n",
       "5986        14           0.0        0.0    0.0    0.0       0.0      False   \n",
       "\n",
       "      y_alg  \n",
       "5061      1  \n",
       "2207      0  \n",
       "2555      0  \n",
       "2193      0  \n",
       "5986      0  "
      ]
     },
     "execution_count": 15,
     "metadata": {},
     "output_type": "execute_result"
    }
   ],
   "source": [
    "results_alg['y_alg'] = results_alg.apply(conditions_alg, axis=1)\n",
    "results_alg.head()"
   ]
  },
  {
   "cell_type": "markdown",
   "metadata": {},
   "source": [
    "### Distribution"
   ]
  },
  {
   "cell_type": "code",
   "execution_count": 16,
   "metadata": {},
   "outputs": [],
   "source": [
    "lfv = results_alg[results_alg['Low Freq Var'] == 1]"
   ]
  },
  {
   "cell_type": "code",
   "execution_count": 17,
   "metadata": {},
   "outputs": [
    {
     "data": {
      "text/html": [
       "<div>\n",
       "<style scoped>\n",
       "    .dataframe tbody tr th:only-of-type {\n",
       "        vertical-align: middle;\n",
       "    }\n",
       "\n",
       "    .dataframe tbody tr th {\n",
       "        vertical-align: top;\n",
       "    }\n",
       "\n",
       "    .dataframe thead th {\n",
       "        text-align: right;\n",
       "    }\n",
       "</style>\n",
       "<table border=\"1\" class=\"dataframe\">\n",
       "  <thead>\n",
       "    <tr style=\"text-align: right;\">\n",
       "      <th></th>\n",
       "      <th>Position</th>\n",
       "      <th>ORF</th>\n",
       "      <th>Parallel</th>\n",
       "      <th>Sequential</th>\n",
       "      <th>y_vi</th>\n",
       "    </tr>\n",
       "  </thead>\n",
       "  <tbody>\n",
       "  </tbody>\n",
       "</table>\n",
       "</div>"
      ],
      "text/plain": [
       "Empty DataFrame\n",
       "Columns: [Position, ORF, Parallel, Sequential, y_vi]\n",
       "Index: []"
      ]
     },
     "execution_count": 17,
     "metadata": {},
     "output_type": "execute_result"
    }
   ],
   "source": [
    "results_vi[results_vi['Position'] == 1449]"
   ]
  },
  {
   "cell_type": "code",
   "execution_count": 18,
   "metadata": {},
   "outputs": [
    {
     "data": {
      "text/html": [
       "<div>\n",
       "<style scoped>\n",
       "    .dataframe tbody tr th:only-of-type {\n",
       "        vertical-align: middle;\n",
       "    }\n",
       "\n",
       "    .dataframe tbody tr th {\n",
       "        vertical-align: top;\n",
       "    }\n",
       "\n",
       "    .dataframe thead th {\n",
       "        text-align: right;\n",
       "    }\n",
       "</style>\n",
       "<table border=\"1\" class=\"dataframe\">\n",
       "  <thead>\n",
       "    <tr style=\"text-align: right;\">\n",
       "      <th></th>\n",
       "      <th>Position</th>\n",
       "      <th>Low Freq Var</th>\n",
       "      <th>Conserved</th>\n",
       "      <th>Inter</th>\n",
       "      <th>Intra</th>\n",
       "      <th>Stepwise</th>\n",
       "      <th>Homoplasy</th>\n",
       "      <th>y_alg</th>\n",
       "    </tr>\n",
       "  </thead>\n",
       "  <tbody>\n",
       "    <tr>\n",
       "      <th>2887</th>\n",
       "      <td>1449</td>\n",
       "      <td>1.0</td>\n",
       "      <td>0.0</td>\n",
       "      <td>0.0</td>\n",
       "      <td>0.0</td>\n",
       "      <td>0.0</td>\n",
       "      <td>False</td>\n",
       "      <td>0</td>\n",
       "    </tr>\n",
       "  </tbody>\n",
       "</table>\n",
       "</div>"
      ],
      "text/plain": [
       "      Position  Low Freq Var  Conserved  Inter  Intra  Stepwise  Homoplasy  \\\n",
       "2887      1449           1.0        0.0    0.0    0.0       0.0      False   \n",
       "\n",
       "      y_alg  \n",
       "2887      0  "
      ]
     },
     "execution_count": 18,
     "metadata": {},
     "output_type": "execute_result"
    }
   ],
   "source": [
    "results_alg[results_alg['Position'] == 1449]"
   ]
  },
  {
   "cell_type": "code",
   "execution_count": 19,
   "metadata": {},
   "outputs": [
    {
     "name": "stdout",
     "output_type": "stream",
     "text": [
      "low frequency variants:  1173\n",
      "total:  6681\n"
     ]
    }
   ],
   "source": [
    "#low frequency variants\n",
    "total = len(results_alg['Low Freq Var'])\n",
    "low_freq_var = sum(results_alg['Low Freq Var'])\n",
    "percentage = (low_freq_var *100) / total \n",
    "print('low frequency variants: ', round(low_freq_var))\n",
    "print('total: ', total)"
   ]
  },
  {
   "cell_type": "code",
   "execution_count": 20,
   "metadata": {},
   "outputs": [
    {
     "name": "stdout",
     "output_type": "stream",
     "text": [
      "conserved sites:  1443\n",
      "variable sites:  5238\n",
      "total:  6681\n"
     ]
    }
   ],
   "source": [
    "total = len(results_alg['Conserved'])\n",
    "conserved = sum(results_alg['Conserved'])\n",
    "percentage = (conserved *100) / total \n",
    "print('conserved sites: ', round(conserved))\n",
    "\n",
    "variable = sum(results_alg['y_alg']!=1)\n",
    "percentage = (variable *100) / total \n",
    "print('variable sites: ', variable)\n",
    "\n",
    "print('total: ', total)"
   ]
  },
  {
   "cell_type": "code",
   "execution_count": 21,
   "metadata": {},
   "outputs": [
    {
     "data": {
      "image/png": "[encoded data removed]",
      "text/plain": [
       "<Figure size 720x360 with 1 Axes>"
      ]
     },
     "metadata": {},
     "output_type": "display_data"
    }
   ],
   "source": [
    "total = results_alg['y_alg'].count()\n",
    "f, ax = plt.subplots(figsize=(10, 5))\n",
    "plt.style.use('seaborn-whitegrid')\n",
    "f = sns.countplot(x='y_alg' ,data=results_alg, alpha=0.7)\n",
    "plt.xticks(np.arange(5),('Other', 'Conserved', 'Homoplasy','Stepwise', 'Homoplasy & Stepwise'))\n",
    "plt.title(\"Results: Algorithm\")\n",
    "plt.xlabel('')\n",
    "plt.savefig('figures/algorithm_distribution.png')\n",
    "plt.show(f)"
   ]
  },
  {
   "cell_type": "code",
   "execution_count": 22,
   "metadata": {
    "scrolled": true
   },
   "outputs": [
    {
     "data": {
      "image/png": "[encoded data removed]",
      "text/plain": [
       "<Figure size 432x288 with 1 Axes>"
      ]
     },
     "metadata": {},
     "output_type": "display_data"
    }
   ],
   "source": [
    "conserved = sum(results_alg['y_alg']==1)\n",
    "homoplasy = sum(results_alg['y_alg']==2)\n",
    "stepwise = sum(results_alg['y_alg']==3)\n",
    "both = sum(results_alg['y_alg']==4)\n",
    "\n",
    "f, ax = plt.subplots(figsize=(6, 4))\n",
    "ax = sns.barplot(x=['Conserved', 'Homoplasy', 'Stepwise', 'Homoplasy & Stepwise'],y=[conserved, homoplasy, stepwise, both], alpha=0.7)\n",
    "plt.xlabel('')\n",
    "plt.title('Results: Algorithm')\n",
    "plt.savefig('figures/conserved_vs_variable.png')\n"
   ]
  },
  {
   "cell_type": "code",
   "execution_count": 23,
   "metadata": {},
   "outputs": [
    {
     "data": {
      "image/png": "[encoded data removed]",
      "text/plain": [
       "<Figure size 432x288 with 1 Axes>"
      ]
     },
     "metadata": {},
     "output_type": "display_data"
    }
   ],
   "source": [
    "variable = sum(results_alg['y_alg']!=1)\n",
    "conserved = sum(results_alg['y_alg']==1)\n",
    "\n",
    "f, ax = plt.subplots(figsize=(6,4))\n",
    "ax = sns.barplot(x=['Conserved', 'Other'],y=[conserved, variable], alpha=0.7)\n",
    "plt.title('Conserved vs Variable')\n",
    "plt.savefig('figures/conserved_vs_other.png')"
   ]
  },
  {
   "cell_type": "markdown",
   "metadata": {},
   "source": [
    "## Confusion Matrix"
   ]
  },
  {
   "cell_type": "code",
   "execution_count": 24,
   "metadata": {},
   "outputs": [
    {
     "data": {
      "text/html": [
       "<div>\n",
       "<style scoped>\n",
       "    .dataframe tbody tr th:only-of-type {\n",
       "        vertical-align: middle;\n",
       "    }\n",
       "\n",
       "    .dataframe tbody tr th {\n",
       "        vertical-align: top;\n",
       "    }\n",
       "\n",
       "    .dataframe thead th {\n",
       "        text-align: right;\n",
       "    }\n",
       "</style>\n",
       "<table border=\"1\" class=\"dataframe\">\n",
       "  <thead>\n",
       "    <tr style=\"text-align: right;\">\n",
       "      <th></th>\n",
       "      <th>Position</th>\n",
       "      <th>Low Freq Var</th>\n",
       "      <th>Conserved</th>\n",
       "      <th>Inter</th>\n",
       "      <th>Intra</th>\n",
       "      <th>Stepwise</th>\n",
       "      <th>Homoplasy</th>\n",
       "      <th>y_alg</th>\n",
       "      <th>ORF</th>\n",
       "      <th>Parallel</th>\n",
       "      <th>Sequential</th>\n",
       "      <th>y_vi</th>\n",
       "    </tr>\n",
       "  </thead>\n",
       "  <tbody>\n",
       "    <tr>\n",
       "      <th>55</th>\n",
       "      <td>76</td>\n",
       "      <td>1.0</td>\n",
       "      <td>0.0</td>\n",
       "      <td>1.0</td>\n",
       "      <td>0.0</td>\n",
       "      <td>0.0</td>\n",
       "      <td>True</td>\n",
       "      <td>2</td>\n",
       "      <td>0</td>\n",
       "      <td>0.0</td>\n",
       "      <td>0.0</td>\n",
       "      <td>0.0</td>\n",
       "    </tr>\n",
       "    <tr>\n",
       "      <th>102</th>\n",
       "      <td>171</td>\n",
       "      <td>0.0</td>\n",
       "      <td>0.0</td>\n",
       "      <td>1.0</td>\n",
       "      <td>0.0</td>\n",
       "      <td>0.0</td>\n",
       "      <td>True</td>\n",
       "      <td>2</td>\n",
       "      <td>0</td>\n",
       "      <td>0.0</td>\n",
       "      <td>0.0</td>\n",
       "      <td>0.0</td>\n",
       "    </tr>\n",
       "    <tr>\n",
       "      <th>177</th>\n",
       "      <td>262</td>\n",
       "      <td>0.0</td>\n",
       "      <td>0.0</td>\n",
       "      <td>1.0</td>\n",
       "      <td>0.0</td>\n",
       "      <td>0.0</td>\n",
       "      <td>True</td>\n",
       "      <td>2</td>\n",
       "      <td>0</td>\n",
       "      <td>0.0</td>\n",
       "      <td>0.0</td>\n",
       "      <td>0.0</td>\n",
       "    </tr>\n",
       "    <tr>\n",
       "      <th>288</th>\n",
       "      <td>409</td>\n",
       "      <td>0.0</td>\n",
       "      <td>0.0</td>\n",
       "      <td>1.0</td>\n",
       "      <td>0.0</td>\n",
       "      <td>0.0</td>\n",
       "      <td>True</td>\n",
       "      <td>2</td>\n",
       "      <td>0</td>\n",
       "      <td>0.0</td>\n",
       "      <td>0.0</td>\n",
       "      <td>0.0</td>\n",
       "    </tr>\n",
       "    <tr>\n",
       "      <th>379</th>\n",
       "      <td>544</td>\n",
       "      <td>0.0</td>\n",
       "      <td>0.0</td>\n",
       "      <td>0.0</td>\n",
       "      <td>0.0</td>\n",
       "      <td>1.0</td>\n",
       "      <td>False</td>\n",
       "      <td>3</td>\n",
       "      <td>0</td>\n",
       "      <td>0.0</td>\n",
       "      <td>0.0</td>\n",
       "      <td>0.0</td>\n",
       "    </tr>\n",
       "  </tbody>\n",
       "</table>\n",
       "</div>"
      ],
      "text/plain": [
       "     Position  Low Freq Var  Conserved  Inter  Intra  Stepwise  Homoplasy  \\\n",
       "55         76           1.0        0.0    1.0    0.0       0.0       True   \n",
       "102       171           0.0        0.0    1.0    0.0       0.0       True   \n",
       "177       262           0.0        0.0    1.0    0.0       0.0       True   \n",
       "288       409           0.0        0.0    1.0    0.0       0.0       True   \n",
       "379       544           0.0        0.0    0.0    0.0       1.0      False   \n",
       "\n",
       "     y_alg ORF  Parallel  Sequential  y_vi  \n",
       "55       2   0       0.0         0.0   0.0  \n",
       "102      2   0       0.0         0.0   0.0  \n",
       "177      2   0       0.0         0.0   0.0  \n",
       "288      2   0       0.0         0.0   0.0  \n",
       "379      3   0       0.0         0.0   0.0  "
      ]
     },
     "execution_count": 24,
     "metadata": {},
     "output_type": "execute_result"
    }
   ],
   "source": [
    "### merge visual inspection and algorithmic results\n",
    "df = results_alg.merge(results_vi, how='outer',on='Position')\n",
    "df = df.where(pd.notnull(df), 0)\n",
    "\n",
    "### merge inter and intra homoplasy\n",
    "df['Homoplasy'] = (df['Inter']==1) | (df['Intra']==1)\n",
    "df[(df['y_alg']>1) & (df['y_vi']==0)].head()"
   ]
  },
  {
   "cell_type": "code",
   "execution_count": 25,
   "metadata": {},
   "outputs": [
    {
     "data": {
      "text/html": [
       "<div>\n",
       "<style scoped>\n",
       "    .dataframe tbody tr th:only-of-type {\n",
       "        vertical-align: middle;\n",
       "    }\n",
       "\n",
       "    .dataframe tbody tr th {\n",
       "        vertical-align: top;\n",
       "    }\n",
       "\n",
       "    .dataframe thead th {\n",
       "        text-align: right;\n",
       "    }\n",
       "</style>\n",
       "<table border=\"1\" class=\"dataframe\">\n",
       "  <thead>\n",
       "    <tr style=\"text-align: right;\">\n",
       "      <th></th>\n",
       "      <th>Position</th>\n",
       "      <th>Low Freq Var</th>\n",
       "      <th>Conserved</th>\n",
       "      <th>Inter</th>\n",
       "      <th>Intra</th>\n",
       "      <th>Stepwise</th>\n",
       "      <th>Homoplasy</th>\n",
       "      <th>y_alg</th>\n",
       "      <th>ORF</th>\n",
       "      <th>Parallel</th>\n",
       "      <th>Sequential</th>\n",
       "      <th>y_vi</th>\n",
       "    </tr>\n",
       "  </thead>\n",
       "  <tbody>\n",
       "    <tr>\n",
       "      <th>78</th>\n",
       "      <td>143</td>\n",
       "      <td>0.0</td>\n",
       "      <td>0.0</td>\n",
       "      <td>1.0</td>\n",
       "      <td>0.0</td>\n",
       "      <td>0.0</td>\n",
       "      <td>True</td>\n",
       "      <td>2</td>\n",
       "      <td>1</td>\n",
       "      <td>1.0</td>\n",
       "      <td>0.0</td>\n",
       "      <td>2.0</td>\n",
       "    </tr>\n",
       "    <tr>\n",
       "      <th>84</th>\n",
       "      <td>149</td>\n",
       "      <td>0.0</td>\n",
       "      <td>0.0</td>\n",
       "      <td>1.0</td>\n",
       "      <td>0.0</td>\n",
       "      <td>0.0</td>\n",
       "      <td>True</td>\n",
       "      <td>2</td>\n",
       "      <td>1</td>\n",
       "      <td>1.0</td>\n",
       "      <td>0.0</td>\n",
       "      <td>2.0</td>\n",
       "    </tr>\n",
       "    <tr>\n",
       "      <th>121</th>\n",
       "      <td>205</td>\n",
       "      <td>0.0</td>\n",
       "      <td>0.0</td>\n",
       "      <td>1.0</td>\n",
       "      <td>0.0</td>\n",
       "      <td>1.0</td>\n",
       "      <td>True</td>\n",
       "      <td>4</td>\n",
       "      <td>Ancestor?</td>\n",
       "      <td>1.0</td>\n",
       "      <td>1.0</td>\n",
       "      <td>4.0</td>\n",
       "    </tr>\n",
       "    <tr>\n",
       "      <th>122</th>\n",
       "      <td>206</td>\n",
       "      <td>0.0</td>\n",
       "      <td>0.0</td>\n",
       "      <td>1.0</td>\n",
       "      <td>0.0</td>\n",
       "      <td>1.0</td>\n",
       "      <td>True</td>\n",
       "      <td>4</td>\n",
       "      <td>1</td>\n",
       "      <td>1.0</td>\n",
       "      <td>1.0</td>\n",
       "      <td>4.0</td>\n",
       "    </tr>\n",
       "    <tr>\n",
       "      <th>127</th>\n",
       "      <td>211</td>\n",
       "      <td>0.0</td>\n",
       "      <td>0.0</td>\n",
       "      <td>1.0</td>\n",
       "      <td>0.0</td>\n",
       "      <td>0.0</td>\n",
       "      <td>True</td>\n",
       "      <td>2</td>\n",
       "      <td>1</td>\n",
       "      <td>1.0</td>\n",
       "      <td>0.0</td>\n",
       "      <td>2.0</td>\n",
       "    </tr>\n",
       "  </tbody>\n",
       "</table>\n",
       "</div>"
      ],
      "text/plain": [
       "     Position  Low Freq Var  Conserved  Inter  Intra  Stepwise  Homoplasy  \\\n",
       "78        143           0.0        0.0    1.0    0.0       0.0       True   \n",
       "84        149           0.0        0.0    1.0    0.0       0.0       True   \n",
       "121       205           0.0        0.0    1.0    0.0       1.0       True   \n",
       "122       206           0.0        0.0    1.0    0.0       1.0       True   \n",
       "127       211           0.0        0.0    1.0    0.0       0.0       True   \n",
       "\n",
       "     y_alg        ORF  Parallel  Sequential  y_vi  \n",
       "78       2          1       1.0         0.0   2.0  \n",
       "84       2          1       1.0         0.0   2.0  \n",
       "121      4  Ancestor?       1.0         1.0   4.0  \n",
       "122      4          1       1.0         1.0   4.0  \n",
       "127      2          1       1.0         0.0   2.0  "
      ]
     },
     "execution_count": 25,
     "metadata": {},
     "output_type": "execute_result"
    }
   ],
   "source": [
    "df[(df['Inter']==1) & (df['Parallel']==1)].head()"
   ]
  },
  {
   "cell_type": "code",
   "execution_count": 26,
   "metadata": {},
   "outputs": [],
   "source": [
    "#map\n",
    "df['y_vi'] = df['y_vi'].map({0: 0, 2: 1, 3:1, 3:1, 4:1})\n",
    "df['y_alg'] = df['y_alg'].map({0: 0, 1:0, 2: 1, 3: 1, 4: 1})"
   ]
  },
  {
   "cell_type": "code",
   "execution_count": 58,
   "metadata": {},
   "outputs": [
    {
     "name": "stdout",
     "output_type": "stream",
     "text": [
      "Algorithm             0    1\n",
      "Visual Inspection           \n",
      "0                  5834  629\n",
      "1                     0  218\n"
     ]
    }
   ],
   "source": [
    "#counts\n",
    "confusion_matrix = pd.crosstab(df['y_vi'], df['y_alg'], rownames=['Visual Inspection'], colnames=['Algorithm'])#, normalize='index')\n",
    "print(confusion_matrix)"
   ]
  },
  {
   "cell_type": "code",
   "execution_count": 60,
   "metadata": {
    "scrolled": true
   },
   "outputs": [
    {
     "data": {
      "image/png": "[encoded data removed]",
      "text/plain": [
       "<Figure size 504x360 with 2 Axes>"
      ]
     },
     "metadata": {},
     "output_type": "display_data"
    }
   ],
   "source": [
    "#visualisation\n",
    "fig, ax = plt.subplots(figsize=(7,5))\n",
    "x_axis_labels = ['Other', 'Homoplasy/Stepwise'] # labels for x-axis\n",
    "y_axis_labels = ['Other', 'Homoplasy/Stepwise'] # labels for y-axis\n",
    "sns.heatmap(confusion_matrix, annot=True,cmap=\"YlGnBu\", fmt='d', xticklabels=x_axis_labels, yticklabels=y_axis_labels)\n",
    "#adjust y ticks\n",
    "plt.yticks(np.arange(2)+0.5,('Other', 'Homoplasy/Stepwise'), va=\"center\")\n",
    "plt.title('Confusion Matrix')\n",
    "plt.savefig('figures/confusion_matrix.png')\n",
    "plt.savefig('figures/confusion_matrix.jpg')\n",
    "plt.savefig('figures/confusion_matrix.tiff')\n",
    "plt.show()"
   ]
  },
  {
   "cell_type": "code",
   "execution_count": 29,
   "metadata": {},
   "outputs": [
    {
     "name": "stdout",
     "output_type": "stream",
     "text": [
      "[]\n"
     ]
    }
   ],
   "source": [
    "# False Negatives\n",
    "fn = df[(df['y_vi']==1) & (df['y_alg']==0)]\n",
    "print(list(fn['Position']))"
   ]
  },
  {
   "cell_type": "code",
   "execution_count": 30,
   "metadata": {},
   "outputs": [
    {
     "data": {
      "text/plain": [
       "0"
      ]
     },
     "execution_count": 30,
     "metadata": {},
     "output_type": "execute_result"
    }
   ],
   "source": [
    "len(fn)"
   ]
  },
  {
   "cell_type": "code",
   "execution_count": 31,
   "metadata": {},
   "outputs": [
    {
     "data": {
      "text/html": [
       "<div>\n",
       "<style scoped>\n",
       "    .dataframe tbody tr th:only-of-type {\n",
       "        vertical-align: middle;\n",
       "    }\n",
       "\n",
       "    .dataframe tbody tr th {\n",
       "        vertical-align: top;\n",
       "    }\n",
       "\n",
       "    .dataframe thead th {\n",
       "        text-align: right;\n",
       "    }\n",
       "</style>\n",
       "<table border=\"1\" class=\"dataframe\">\n",
       "  <thead>\n",
       "    <tr style=\"text-align: right;\">\n",
       "      <th></th>\n",
       "      <th>Position</th>\n",
       "      <th>Low Freq Var</th>\n",
       "      <th>Conserved</th>\n",
       "      <th>Inter</th>\n",
       "      <th>Intra</th>\n",
       "      <th>Stepwise</th>\n",
       "      <th>Homoplasy</th>\n",
       "      <th>y_alg</th>\n",
       "      <th>ORF</th>\n",
       "      <th>Parallel</th>\n",
       "      <th>Sequential</th>\n",
       "      <th>y_vi</th>\n",
       "    </tr>\n",
       "  </thead>\n",
       "  <tbody>\n",
       "    <tr>\n",
       "      <th>1650</th>\n",
       "      <td>2193</td>\n",
       "      <td>1.0</td>\n",
       "      <td>0.0</td>\n",
       "      <td>0.0</td>\n",
       "      <td>0.0</td>\n",
       "      <td>0.0</td>\n",
       "      <td>False</td>\n",
       "      <td>0</td>\n",
       "      <td>0</td>\n",
       "      <td>0.0</td>\n",
       "      <td>0.0</td>\n",
       "      <td>0</td>\n",
       "    </tr>\n",
       "  </tbody>\n",
       "</table>\n",
       "</div>"
      ],
      "text/plain": [
       "      Position  Low Freq Var  Conserved  Inter  Intra  Stepwise  Homoplasy  \\\n",
       "1650      2193           1.0        0.0    0.0    0.0       0.0      False   \n",
       "\n",
       "      y_alg ORF  Parallel  Sequential  y_vi  \n",
       "1650      0   0       0.0         0.0     0  "
      ]
     },
     "execution_count": 31,
     "metadata": {},
     "output_type": "execute_result"
    }
   ],
   "source": [
    "df[df['Position']==2193]"
   ]
  },
  {
   "cell_type": "code",
   "execution_count": 44,
   "metadata": {},
   "outputs": [
    {
     "name": "stdout",
     "output_type": "stream",
     "text": [
      "[544, 928, 931, 933, 936, 945, 973, 983, 985, 999, 1001, 1147, 1154, 1172, 1174, 1183, 1190, 1202, 1337, 1374, 1384, 1403, 1406, 1422, 1513, 1516, 1544, 1674, 1700, 1769, 1852, 1951, 1953, 1968, 1976, 2026, 2029, 2125, 2132, 2196, 2202, 2219, 2255, 2276, 2281, 2299, 2307, 2342, 2362, 2414, 2415, 2441, 2485, 2510, 2547, 2569, 2571, 2648, 2653, 2674, 2795, 2910, 2986, 2997, 3001, 3049, 3058, 3140, 3192, 3193, 3243, 3317, 3318, 3326, 3338, 3407, 3410, 3411, 3489, 3490, 3512, 3572, 3577, 3638, 3646, 3666, 3804, 3809, 3857, 3866, 3892, 3897, 3922, 4016, 4018, 4019, 4022, 4101, 4121, 4167, 4174, 4184, 4190, 4220, 4267, 4281, 4350, 4372, 4419, 4460, 4518, 4523, 4559, 4566, 4609, 4736, 4860, 4920, 4970, 4993, 5011, 5025, 5079, 5108, 5183, 5247, 5273, 5279, 5301, 5314, 5333, 5339, 5395, 5456, 5485, 5486, 5500, 5501, 5528, 5559, 5585, 5617, 5624, 5625, 5631, 5665, 5668, 5673, 5702, 5729, 5751, 5762, 5765, 5770, 5816, 5822, 5877, 5884, 5885, 5897, 5909, 5923, 5930, 5944, 5955, 5960, 6014, 6025, 6032, 6039, 6042, 6057, 6061, 6077, 6086, 6096, 6105, 6149, 6164, 6166, 6211, 6212, 6244, 6253, 6265, 6275, 6293, 6323, 6339, 6352, 6381, 6411, 6477, 6493, 6505, 6507, 6514, 6527, 6530, 6537, 6544, 6553, 6561, 6567, 6583, 6588, 6592, 6594, 6597, 6602, 6609, 6619, 6620, 6621, 6622, 6671, 6688, 6689, 6690, 6695, 6717, 6725, 6736, 6752, 6769, 6770, 6777, 6790, 6791, 6793, 6797, 6798, 6800, 6809, 6814, 6817, 6818, 6820, 6828, 6842, 6843, 6845, 6859, 6860, 6863, 6866, 6871, 6877, 6882, 6883, 6893, 6894, 6911, 6919, 6921, 6925, 6930, 6933, 6934, 6942, 6945, 6958, 6992, 6997, 7012, 7014, 7026, 7059, 7060, 7062, 7064, 7086, 7160, 7163, 7165, 7173, 7174, 7177, 7181, 7185, 7192, 7203, 7207, 7225, 7230, 7231, 7234, 7240, 7243, 7246, 7249, 7254, 7264, 7265, 7266, 7267, 7287, 7290, 7294, 7300, 7306, 7308, 7314, 7321, 7324, 7329, 7355, 7359, 7361, 7367, 7374, 7375, 7384, 7398, 7402, 7405, 7409, 7411, 7412, 7435, 7439, 7444, 7445, 7449, 7454, 7455, 7467, 7488, 7500, 7519, 7557, 7561, 7564, 7571, 7585, 7594, 7598, 7601, 7615, 7621, 7623, 7642, 7644, 7646, 7658, 7660, 7661, 7670, 7675, 7686, 7693, 7701, 7702, 7706, 7708, 7710, 7714, 7715, 7717, 7719, 7733, 7736, 7752, 7764, 7780, 7781, 7789, 7813, 7814, 7816, 7820]\n"
     ]
    }
   ],
   "source": [
    "# False Positives\n",
    "fp = df[(df['y_vi']==0) & (df['y_alg']==1) & (df['Stepwise']==1)]\n",
    "print(list(fp['Position']))"
   ]
  },
  {
   "cell_type": "code",
   "execution_count": 45,
   "metadata": {},
   "outputs": [
    {
     "data": {
      "text/plain": [
       "371"
      ]
     },
     "execution_count": 45,
     "metadata": {},
     "output_type": "execute_result"
    }
   ],
   "source": [
    "len(fp)"
   ]
  },
  {
   "cell_type": "code",
   "execution_count": 46,
   "metadata": {},
   "outputs": [],
   "source": [
    "# merge only with visual inspection sites\n",
    "df2 = results_alg.merge(results_vi, how='inner',on='Position')"
   ]
  },
  {
   "cell_type": "code",
   "execution_count": 47,
   "metadata": {},
   "outputs": [
    {
     "name": "stdout",
     "output_type": "stream",
     "text": [
      "Algorithm           2   3   4\n",
      "Visual Inspection            \n",
      "2                  81   4  20\n",
      "3                   2  48  18\n",
      "4                  15   5  25\n"
     ]
    }
   ],
   "source": [
    "#counts\n",
    "confusion_matrix = pd.crosstab(df2['y_vi'], df2['y_alg'], rownames=['Visual Inspection'], colnames=['Algorithm'])#, normalize='index')\n",
    "print (confusion_matrix)"
   ]
  },
  {
   "cell_type": "code",
   "execution_count": 48,
   "metadata": {
    "scrolled": true
   },
   "outputs": [
    {
     "data": {
      "image/png": "[encoded data removed]",
      "text/plain": [
       "<Figure size 504x360 with 2 Axes>"
      ]
     },
     "metadata": {},
     "output_type": "display_data"
    }
   ],
   "source": [
    "fig, ax = plt.subplots(figsize=(7,5))\n",
    "x_axis_labels = ['Homoplasy', 'Stepwise', 'Homoplasy/Stepwise'] # labels for x-axis\n",
    "y_axis_labels = ['Homoplasy', 'Stepwise', 'Homoplasy/Stepwise'] # labels for y-axis\n",
    "sns.heatmap(confusion_matrix[[2,3,4]], annot=True,cmap=\"YlGnBu\", fmt='d', xticklabels=x_axis_labels, yticklabels=y_axis_labels)\n",
    "#adjust y ticks\n",
    "plt.yticks(np.arange(3)+0.5,('Homoplasy', 'Stepwise', 'Homoplasy/Stepwise'), va=\"center\")\n",
    "plt.title('Confusion Matrix')\n",
    "plt.savefig('figures/confusion_matrix2.png')\n",
    "plt.show()"
   ]
  },
  {
   "cell_type": "code",
   "execution_count": 49,
   "metadata": {},
   "outputs": [
    {
     "name": "stdout",
     "output_type": "stream",
     "text": [
      "Algorithm          False  True \n",
      "Visual Inspection              \n",
      "0                     49     19\n",
      "1                     12    138\n"
     ]
    }
   ],
   "source": [
    "#homoplasy\n",
    "#counts\n",
    "confusion_matrix3 = pd.crosstab(df2['Parallel'], df2['Homoplasy'], rownames=['Visual Inspection'], colnames=['Algorithm'])#, normalize='index')\n",
    "print (confusion_matrix3)"
   ]
  },
  {
   "cell_type": "code",
   "execution_count": 56,
   "metadata": {},
   "outputs": [
    {
     "data": {
      "image/png": "[encoded data removed]",
      "text/plain": [
       "<Figure size 504x360 with 2 Axes>"
      ]
     },
     "metadata": {},
     "output_type": "display_data"
    }
   ],
   "source": [
    "#visualisation\n",
    "fig, ax = plt.subplots(figsize=(7,5))\n",
    "x_axis_labels = ['False', 'True'] # labels for x-axis\n",
    "y_axis_labels = ['False', 'True'] # labels for y-axis\n",
    "sns.heatmap(confusion_matrix3, annot=True,cmap=\"YlGnBu\", fmt='d', xticklabels=x_axis_labels, yticklabels=y_axis_labels)\n",
    "#adjust y ticks\n",
    "plt.yticks(np.arange(2)+0.5,('False', 'True'), va=\"center\")\n",
    "plt.title('Confusion Matrix')\n",
    "plt.savefig('figures/confusion_matrix.png')\n",
    "plt.show()"
   ]
  },
  {
   "cell_type": "code",
   "execution_count": 51,
   "metadata": {},
   "outputs": [
    {
     "name": "stdout",
     "output_type": "stream",
     "text": [
      "Algorithm          0.0  1.0\n",
      "Visual Inspection          \n",
      "0                   81   24\n",
      "1                   17   96\n"
     ]
    }
   ],
   "source": [
    "#stepwise\n",
    "confusion_matrix4 = pd.crosstab(df2['Sequential'], df2['Stepwise'], rownames=['Visual Inspection'], colnames=['Algorithm'])#, normalize='index')\n",
    "print (confusion_matrix4)"
   ]
  },
  {
   "cell_type": "code",
   "execution_count": 52,
   "metadata": {},
   "outputs": [
    {
     "data": {
      "image/png": "[encoded data removed]",
      "text/plain": [
       "<Figure size 504x360 with 2 Axes>"
      ]
     },
     "metadata": {},
     "output_type": "display_data"
    }
   ],
   "source": [
    "#visualisation\n",
    "fig, ax = plt.subplots(figsize=(7,5))\n",
    "x_axis_labels = ['False', 'True'] # labels for x-axis\n",
    "y_axis_labels = ['False', 'True'] # labels for y-axis\n",
    "sns.heatmap(confusion_matrix4, annot=True,cmap=\"YlGnBu\", fmt='d', xticklabels=x_axis_labels, yticklabels=y_axis_labels)\n",
    "#adjust y ticks\n",
    "plt.yticks(np.arange(2)+0.5,('False', 'True'), va=\"center\")\n",
    "plt.title('Confusion Matrix')\n",
    "plt.savefig('figures/confusion_matrix.png')\n",
    "plt.show()"
   ]
  },
  {
   "cell_type": "code",
   "execution_count": 53,
   "metadata": {},
   "outputs": [
    {
     "data": {
      "text/html": [
       "<div>\n",
       "<style scoped>\n",
       "    .dataframe tbody tr th:only-of-type {\n",
       "        vertical-align: middle;\n",
       "    }\n",
       "\n",
       "    .dataframe tbody tr th {\n",
       "        vertical-align: top;\n",
       "    }\n",
       "\n",
       "    .dataframe thead th {\n",
       "        text-align: right;\n",
       "    }\n",
       "</style>\n",
       "<table border=\"1\" class=\"dataframe\">\n",
       "  <thead>\n",
       "    <tr style=\"text-align: right;\">\n",
       "      <th></th>\n",
       "      <th>Position</th>\n",
       "      <th>Low Freq Var</th>\n",
       "      <th>Conserved</th>\n",
       "      <th>Inter</th>\n",
       "      <th>Intra</th>\n",
       "      <th>Stepwise</th>\n",
       "      <th>Homoplasy</th>\n",
       "      <th>y_alg</th>\n",
       "      <th>ORF</th>\n",
       "      <th>Parallel</th>\n",
       "      <th>Sequential</th>\n",
       "      <th>y_vi</th>\n",
       "    </tr>\n",
       "  </thead>\n",
       "  <tbody>\n",
       "    <tr>\n",
       "      <th>0</th>\n",
       "      <td>38</td>\n",
       "      <td>1.0</td>\n",
       "      <td>0.0</td>\n",
       "      <td>0.0</td>\n",
       "      <td>0.0</td>\n",
       "      <td>1.0</td>\n",
       "      <td>False</td>\n",
       "      <td>3</td>\n",
       "      <td>Ancestor?, X, LFV</td>\n",
       "      <td>0</td>\n",
       "      <td>1</td>\n",
       "      <td>3</td>\n",
       "    </tr>\n",
       "    <tr>\n",
       "      <th>1</th>\n",
       "      <td>39</td>\n",
       "      <td>1.0</td>\n",
       "      <td>0.0</td>\n",
       "      <td>0.0</td>\n",
       "      <td>0.0</td>\n",
       "      <td>1.0</td>\n",
       "      <td>False</td>\n",
       "      <td>3</td>\n",
       "      <td>Ancestor? X</td>\n",
       "      <td>0</td>\n",
       "      <td>1</td>\n",
       "      <td>3</td>\n",
       "    </tr>\n",
       "    <tr>\n",
       "      <th>2</th>\n",
       "      <td>84</td>\n",
       "      <td>0.0</td>\n",
       "      <td>0.0</td>\n",
       "      <td>0.0</td>\n",
       "      <td>0.0</td>\n",
       "      <td>1.0</td>\n",
       "      <td>False</td>\n",
       "      <td>3</td>\n",
       "      <td>Ancestor?  X, LFV</td>\n",
       "      <td>0</td>\n",
       "      <td>1</td>\n",
       "      <td>3</td>\n",
       "    </tr>\n",
       "    <tr>\n",
       "      <th>3</th>\n",
       "      <td>85</td>\n",
       "      <td>0.0</td>\n",
       "      <td>0.0</td>\n",
       "      <td>0.0</td>\n",
       "      <td>0.0</td>\n",
       "      <td>1.0</td>\n",
       "      <td>False</td>\n",
       "      <td>3</td>\n",
       "      <td>Ancestor?  X, LFV</td>\n",
       "      <td>0</td>\n",
       "      <td>1</td>\n",
       "      <td>3</td>\n",
       "    </tr>\n",
       "    <tr>\n",
       "      <th>4</th>\n",
       "      <td>88</td>\n",
       "      <td>1.0</td>\n",
       "      <td>0.0</td>\n",
       "      <td>1.0</td>\n",
       "      <td>0.0</td>\n",
       "      <td>1.0</td>\n",
       "      <td>True</td>\n",
       "      <td>4</td>\n",
       "      <td>Orf1a</td>\n",
       "      <td>0</td>\n",
       "      <td>1</td>\n",
       "      <td>3</td>\n",
       "    </tr>\n",
       "  </tbody>\n",
       "</table>\n",
       "</div>"
      ],
      "text/plain": [
       "   Position  Low Freq Var  Conserved  Inter  Intra  Stepwise  Homoplasy  \\\n",
       "0        38           1.0        0.0    0.0    0.0       1.0      False   \n",
       "1        39           1.0        0.0    0.0    0.0       1.0      False   \n",
       "2        84           0.0        0.0    0.0    0.0       1.0      False   \n",
       "3        85           0.0        0.0    0.0    0.0       1.0      False   \n",
       "4        88           1.0        0.0    1.0    0.0       1.0       True   \n",
       "\n",
       "   y_alg                ORF  Parallel  Sequential  y_vi  \n",
       "0      3  Ancestor?, X, LFV         0           1     3  \n",
       "1      3        Ancestor? X         0           1     3  \n",
       "2      3  Ancestor?  X, LFV         0           1     3  \n",
       "3      3  Ancestor?  X, LFV         0           1     3  \n",
       "4      4              Orf1a         0           1     3  "
      ]
     },
     "execution_count": 53,
     "metadata": {},
     "output_type": "execute_result"
    }
   ],
   "source": [
    "df2.head()"
   ]
  },
  {
   "cell_type": "code",
   "execution_count": 55,
   "metadata": {},
   "outputs": [
    {
     "data": {
      "text/html": [
       "<div>\n",
       "<style scoped>\n",
       "    .dataframe tbody tr th:only-of-type {\n",
       "        vertical-align: middle;\n",
       "    }\n",
       "\n",
       "    .dataframe tbody tr th {\n",
       "        vertical-align: top;\n",
       "    }\n",
       "\n",
       "    .dataframe thead th {\n",
       "        text-align: right;\n",
       "    }\n",
       "</style>\n",
       "<table border=\"1\" class=\"dataframe\">\n",
       "  <thead>\n",
       "    <tr style=\"text-align: right;\">\n",
       "      <th></th>\n",
       "      <th>Position</th>\n",
       "      <th>Low Freq Var</th>\n",
       "      <th>Conserved</th>\n",
       "      <th>Inter</th>\n",
       "      <th>Intra</th>\n",
       "      <th>Stepwise</th>\n",
       "      <th>Homoplasy</th>\n",
       "      <th>y_alg</th>\n",
       "      <th>ORF</th>\n",
       "      <th>Parallel</th>\n",
       "      <th>Sequential</th>\n",
       "      <th>y_vi</th>\n",
       "    </tr>\n",
       "  </thead>\n",
       "  <tbody>\n",
       "    <tr>\n",
       "      <th>5</th>\n",
       "      <td>143</td>\n",
       "      <td>0.0</td>\n",
       "      <td>0.0</td>\n",
       "      <td>1.0</td>\n",
       "      <td>0.0</td>\n",
       "      <td>0.0</td>\n",
       "      <td>True</td>\n",
       "      <td>2</td>\n",
       "      <td>1</td>\n",
       "      <td>1</td>\n",
       "      <td>0</td>\n",
       "      <td>2</td>\n",
       "    </tr>\n",
       "    <tr>\n",
       "      <th>6</th>\n",
       "      <td>149</td>\n",
       "      <td>0.0</td>\n",
       "      <td>0.0</td>\n",
       "      <td>1.0</td>\n",
       "      <td>0.0</td>\n",
       "      <td>0.0</td>\n",
       "      <td>True</td>\n",
       "      <td>2</td>\n",
       "      <td>1</td>\n",
       "      <td>1</td>\n",
       "      <td>0</td>\n",
       "      <td>2</td>\n",
       "    </tr>\n",
       "    <tr>\n",
       "      <th>10</th>\n",
       "      <td>205</td>\n",
       "      <td>0.0</td>\n",
       "      <td>0.0</td>\n",
       "      <td>1.0</td>\n",
       "      <td>0.0</td>\n",
       "      <td>1.0</td>\n",
       "      <td>True</td>\n",
       "      <td>4</td>\n",
       "      <td>Ancestor?</td>\n",
       "      <td>1</td>\n",
       "      <td>1</td>\n",
       "      <td>4</td>\n",
       "    </tr>\n",
       "    <tr>\n",
       "      <th>11</th>\n",
       "      <td>206</td>\n",
       "      <td>0.0</td>\n",
       "      <td>0.0</td>\n",
       "      <td>1.0</td>\n",
       "      <td>0.0</td>\n",
       "      <td>1.0</td>\n",
       "      <td>True</td>\n",
       "      <td>4</td>\n",
       "      <td>1</td>\n",
       "      <td>1</td>\n",
       "      <td>1</td>\n",
       "      <td>4</td>\n",
       "    </tr>\n",
       "    <tr>\n",
       "      <th>13</th>\n",
       "      <td>211</td>\n",
       "      <td>0.0</td>\n",
       "      <td>0.0</td>\n",
       "      <td>1.0</td>\n",
       "      <td>0.0</td>\n",
       "      <td>0.0</td>\n",
       "      <td>True</td>\n",
       "      <td>2</td>\n",
       "      <td>1</td>\n",
       "      <td>1</td>\n",
       "      <td>0</td>\n",
       "      <td>2</td>\n",
       "    </tr>\n",
       "    <tr>\n",
       "      <th>...</th>\n",
       "      <td>...</td>\n",
       "      <td>...</td>\n",
       "      <td>...</td>\n",
       "      <td>...</td>\n",
       "      <td>...</td>\n",
       "      <td>...</td>\n",
       "      <td>...</td>\n",
       "      <td>...</td>\n",
       "      <td>...</td>\n",
       "      <td>...</td>\n",
       "      <td>...</td>\n",
       "      <td>...</td>\n",
       "    </tr>\n",
       "    <tr>\n",
       "      <th>212</th>\n",
       "      <td>7673</td>\n",
       "      <td>0.0</td>\n",
       "      <td>0.0</td>\n",
       "      <td>1.0</td>\n",
       "      <td>0.0</td>\n",
       "      <td>1.0</td>\n",
       "      <td>True</td>\n",
       "      <td>4</td>\n",
       "      <td>Spike</td>\n",
       "      <td>1</td>\n",
       "      <td>1</td>\n",
       "      <td>4</td>\n",
       "    </tr>\n",
       "    <tr>\n",
       "      <th>213</th>\n",
       "      <td>7724</td>\n",
       "      <td>0.0</td>\n",
       "      <td>0.0</td>\n",
       "      <td>1.0</td>\n",
       "      <td>0.0</td>\n",
       "      <td>1.0</td>\n",
       "      <td>True</td>\n",
       "      <td>4</td>\n",
       "      <td>Spike</td>\n",
       "      <td>1</td>\n",
       "      <td>0</td>\n",
       "      <td>2</td>\n",
       "    </tr>\n",
       "    <tr>\n",
       "      <th>215</th>\n",
       "      <td>7769</td>\n",
       "      <td>1.0</td>\n",
       "      <td>0.0</td>\n",
       "      <td>1.0</td>\n",
       "      <td>0.0</td>\n",
       "      <td>1.0</td>\n",
       "      <td>True</td>\n",
       "      <td>4</td>\n",
       "      <td>Spike</td>\n",
       "      <td>1</td>\n",
       "      <td>0</td>\n",
       "      <td>2</td>\n",
       "    </tr>\n",
       "    <tr>\n",
       "      <th>216</th>\n",
       "      <td>7777</td>\n",
       "      <td>0.0</td>\n",
       "      <td>0.0</td>\n",
       "      <td>1.0</td>\n",
       "      <td>0.0</td>\n",
       "      <td>1.0</td>\n",
       "      <td>True</td>\n",
       "      <td>4</td>\n",
       "      <td>Spike</td>\n",
       "      <td>1</td>\n",
       "      <td>0</td>\n",
       "      <td>2</td>\n",
       "    </tr>\n",
       "    <tr>\n",
       "      <th>217</th>\n",
       "      <td>7788</td>\n",
       "      <td>0.0</td>\n",
       "      <td>0.0</td>\n",
       "      <td>1.0</td>\n",
       "      <td>0.0</td>\n",
       "      <td>1.0</td>\n",
       "      <td>True</td>\n",
       "      <td>4</td>\n",
       "      <td>Spike</td>\n",
       "      <td>1</td>\n",
       "      <td>0</td>\n",
       "      <td>2</td>\n",
       "    </tr>\n",
       "  </tbody>\n",
       "</table>\n",
       "<p>138 rows × 12 columns</p>\n",
       "</div>"
      ],
      "text/plain": [
       "     Position  Low Freq Var  Conserved  Inter  Intra  Stepwise  Homoplasy  \\\n",
       "5         143           0.0        0.0    1.0    0.0       0.0       True   \n",
       "6         149           0.0        0.0    1.0    0.0       0.0       True   \n",
       "10        205           0.0        0.0    1.0    0.0       1.0       True   \n",
       "11        206           0.0        0.0    1.0    0.0       1.0       True   \n",
       "13        211           0.0        0.0    1.0    0.0       0.0       True   \n",
       "..        ...           ...        ...    ...    ...       ...        ...   \n",
       "212      7673           0.0        0.0    1.0    0.0       1.0       True   \n",
       "213      7724           0.0        0.0    1.0    0.0       1.0       True   \n",
       "215      7769           1.0        0.0    1.0    0.0       1.0       True   \n",
       "216      7777           0.0        0.0    1.0    0.0       1.0       True   \n",
       "217      7788           0.0        0.0    1.0    0.0       1.0       True   \n",
       "\n",
       "     y_alg        ORF  Parallel  Sequential  y_vi  \n",
       "5        2          1         1           0     2  \n",
       "6        2          1         1           0     2  \n",
       "10       4  Ancestor?         1           1     4  \n",
       "11       4          1         1           1     4  \n",
       "13       2          1         1           0     2  \n",
       "..     ...        ...       ...         ...   ...  \n",
       "212      4      Spike         1           1     4  \n",
       "213      4      Spike         1           0     2  \n",
       "215      4      Spike         1           0     2  \n",
       "216      4      Spike         1           0     2  \n",
       "217      4      Spike         1           0     2  \n",
       "\n",
       "[138 rows x 12 columns]"
      ]
     },
     "execution_count": 55,
     "metadata": {},
     "output_type": "execute_result"
    }
   ],
   "source": [
    "df2[(df2['Inter']==1) & (df2['Parallel']==1)]"
   ]
  },
  {
   "cell_type": "code",
   "execution_count": null,
   "metadata": {},
   "outputs": [],
   "source": []
  }
 ],
 "metadata": {
  "kernelspec": {
   "display_name": "Python 3",
   "language": "python",
   "name": "python3"
  },
  "language_info": {
   "codemirror_mode": {
    "name": "ipython",
    "version": 3
   },
   "file_extension": ".py",
   "mimetype": "text/x-python",
   "name": "python",
   "nbconvert_exporter": "python",
   "pygments_lexer": "ipython3",
   "version": "3.7.3"
  }
 },
 "nbformat": 4,
 "nbformat_minor": 2
}
